{
 "cells": [
  {
   "cell_type": "markdown",
   "metadata": {},
   "source": [
    "For my project, I try to summarize book reviews from the site [goodreads](https://www.goodreads.com/). To test the `transformers` summarization pipeline, I chose some reviews of Harry Potter and the Sorcerer's Stone."
   ]
  },
  {
   "cell_type": "code",
   "execution_count": 1,
   "metadata": {},
   "outputs": [
    {
     "name": "stderr",
     "output_type": "stream",
     "text": [
      "/usr/lib/python3/dist-packages/requests/__init__.py:89: RequestsDependencyWarning: urllib3 (1.26.9) or chardet (3.0.4) doesn't match a supported version!\n",
      "  warnings.warn(\"urllib3 ({}) or chardet ({}) doesn't match a supported \"\n",
      "2022-05-07 16:25:30.589660: W tensorflow/stream_executor/platform/default/dso_loader.cc:60] Could not load dynamic library 'libcudart.so.11.0'; dlerror: libcudart.so.11.0: cannot open shared object file: No such file or directory\n",
      "2022-05-07 16:25:30.589692: I tensorflow/stream_executor/cuda/cudart_stub.cc:29] Ignore above cudart dlerror if you do not have a GPU set up on your machine.\n"
     ]
    }
   ],
   "source": [
    "from transformers import pipeline\n",
    "import nltk"
   ]
  },
  {
   "cell_type": "markdown",
   "metadata": {},
   "source": [
    "I chose sample reviews, as the dataset I work with has more than three Gb of data."
   ]
  },
  {
   "cell_type": "code",
   "execution_count": 2,
   "metadata": {
    "scrolled": false
   },
   "outputs": [
    {
     "name": "stdout",
     "output_type": "stream",
     "text": [
      "This review also appears on BookDigits, which offers a brand new way of rating, reviewing, and discovering books. \n",
      " Grade: A- \n",
      " L/C Ratio: 30% Literary / 70% Commercial \n",
      " Thematic Breakdown: \n",
      " 30% - Magic \n",
      " 25% - Adventure \n",
      " 20% - Friendship \n",
      " 15% - Mystery \n",
      " 10% - School \n",
      " Addictiveness: High \n",
      " Movie Potential: 2 Thumbs Up \n",
      " Re-readability: High \n",
      " This is my second time through the series. More than a decade has passed since my first reading of \"The Sorcerer's Stone.\" Both Rowling's world-building and Harry's origin story remain as awesome as I remember them. The mysteries and revelations that dominate the second half of the book can be somewhat clumsy and convenient, but they succeed in raising the stakes of the plot.\n",
      "\n",
      "My boyfriend and I are read this book together this summer. My goal was to get him to read more since it is one of my favorite hobbies, so I let him pick the book we read. He chose Harry Potter. Well, I guess it was about time I finally read this book :P Not to brag or anything... but finished before him ;) haha. I enjoyed this book. It was a really good kids book. It is a fast, easy read, but like I said earlier it was defiantly written for someone younger. \n",
      " I would give this book a 3.5 stars, so I am rounding it up to 4 stars!\n",
      "\n",
      "** spoiler alert ** \n",
      " [review no longer makes sense, since I wrote it when I was sixteen. I'm seventeen now. And less hard on the Dursleys.] \n",
      " I'm sixteen years old, and until yesterday, I'd never read a Harry Potter book. \n",
      " That's right, I'm The Girl Who Lived. Without Harry Potter. (Heh, that was a joke.) \n",
      " I have always professed to be a compulsive reader, but no one really believes me after they find out I haven't read Harry Potter. It seems to them like kind of a huge thing to have missed. I can understand that, but if, like me, you've never read this series, trust me--I am you. I feel your pain. \n",
      " So yesterday I finally read the first book, after years of sheepishly admitting to others that I hadn't read my generation's most popular series, after years of learning all about Harry and Ron and Voldemort and Hermione secondhand. \n",
      " Enough preliminaries. It's time for literary comparisons. \n",
      " J.K. Rowling is a really excellent storyteller. Her voice reminded me of many of the old children's authors I read when I was younger (back when everyone else was reading Harry Potter)--C.S. Lewis, E. Nesbit, J.R.R. Tolkien. An example of writing that could have slipped straight out of Narnia or Five Children And It: in Chapter 1 the huge motorcyclist, Hagrid, is delightfully described in the narrative as looking \"simply too big to be allowed.\" Maybe it's the common bond of authors who start their names with their initials. \n",
      " There's some Roald Dahl in Rowling's writing, too. Okay, lots of Roald Dahl. Spades of Roald Dahl. \n",
      " After the opening chapter, which is eye-catching and involves strange things happening, strange characters meeting up, and a strange baby boy being left on the doorstep of his boring uncle and aunt, the story starts to feel like a blend of Matilda and Jane Eyre with a male protagonist. The Dursleys are obsessed with their spoiled son, Dudley, and gleefully indulge his temper tantrums, breaking of expensive objects, and abuse of Harry. They hate Harry, and fortunately they're sort of, kind of given a reason to--they simply don't want to get mixed up with all this weird wizardry that his parents were a part of--but it still feels unrealistic. Not that it's supposed to feel realistic at all--it's simply following in the Matilda/Jane Eyre tradition of putting the main character under the care of unreasonably hateful and unlikable people. Actually, that tradition is as old as time itself, and dates back to the first fairy tales. It's a formula that instantly grabs attention and sympathy, especially from children, who don't have any disbelief to suspend and who wish that they had such a great excuse to be discontented. When I was little, my absolute favorite game to play with myself was the one in which I was an unwanted, unloved servant girl working in a rich household for a cruel lady who favored her own daughters over me. This private fantasy of mine was usually pulled out at the times when I was stuck doing things like poring over my times-tables or picking my shoes and toys up off the living-room floor. There's nothing quite so comforting as an imaginary refuge from the scourge of loving parents who give you one or two chores and who only want the best for you. Suddenly, I'm remembering a scene from Mrs. Piggle-Wiggle, where a girl complains that her mother probably got her from an orphanage just so that she could wash the dishes. Good authors know the minds of their target audience. \n",
      " At any rate, Harry Potter lives in a closet under the staircase--not for lack of rooms in the Dursley's house, but simply because the Dursleys feel like putting him there--and is frequently beaten senseless by Dudley and his lackeys. (Dudley's a bit of an unaccountable phenomenon. For some reason, he's managed to be an overweight, crybaby idiot who never exercises and does nothing but watch TV...who can beat up Harry without breaking a sweat. Harry's a skinny little lad who's only able to get away from Dudley because he's extremely fast...to which I say, then why don't you work out and get some muscle, Harry? You can take that couch potato, can't you?) \n",
      " Every year, Harry Potter stays with the local crazy cat lady while Dudley goes out for his birthday. (And if you think that Harry Potter gets his birthday celebrated, well, you need to read more Roald Dahl.) This year, however, is different, because the crazy cat lady broke her leg somehow. For some reason there's no one else available to babysit. The Dursleys don't trust Harry in the house alone, because he's done one or two magical things without meaning to, but more importantly because they just hate his guts. So, with everything in the plot being somehow against them, the Dursleys are reluctantly forced to do the most out-of-character thing imaginable. They take their nephew with them to the zoo. Harry has the time of his life and is even delighted at having managed to buy a \"cheap ice pop\" before his aunt and uncle could stop him. They would, of course, have swooped down immediately and prevented him from having had any kind of fun at all, except that they were busy buying Dudley and his random tag-along friend/number one lackey a big chocolate ice-cream-cone apiece. That's right, even Dudley's random friends get better treatment than Harry Potter. \n",
      " Everything's going great until Harry hits the reptile exhibit and finds himself able to communicate with one of the snakes, who hates being in his glass enclosure and wants to make a break for Brazil. Suddenly the glass in the front of the tank is gone, the snake is slithering away, everyone is freaking out (especially Dudley, who is never for a second allowed to have any dignity), and Harry swears he heard the snake thank him. The Dursleys know that all this is undoubtedly one hundred percent Harry's fault, so they instantly whisk him home and lock him in his cobwebby closet for the night. Considering that this is Britain, where the child protective services are even more insane than they are here, this aspect of the story is probably even less likely than all the magic. \n",
      " Then, Harry gets a letter addressed to him. It's even directed to \"the cupboard under the stairs.\" Harry's uncle takes one look at the letter and tears it up before Harry has a chance to read a word of it. Although this is what we'd all expect him to do after those earlier chapters, it turns out not to be more pointless Dursley meanness--he's determined to keep something from Harry, which becomes clear when the senders of the letter refuse to give up and start sending more letters, all of which are destroyed--letters coming down the chimney, under the doors and windows, everywhere that they can possibly come. Frightened and unable to keep up all this destroying, Harry's uncle packs everyone in the car and drives them out to the middle of nowhere just so that they won't get any more letters. In the midst of all this, everyone but Harry has forgotten that tomorrow is Harry's eleventh birthday, which is fine, because they weren't going to celebrate it anyway. \n",
      " There's a great moment that night in the little sea-shack that the Dursleys rent, when Harry Potter sits up and counts down the seconds to his eleventh birthday on the sleeping Dudley's watch. Despite everything, Harry's hugely excited to be turning eleven, and he's even more excited when a giant on a motorcycle comes bursting in out of nowhere, wishes him a happy birthday, and scares the Dursleys half to death. \n",
      " This giant is Hagrid, and I thoroughly enjoyed him in these first couple of chapters. He's another element of the story that feels extremely classic, the simple, salt-of-the-earth peasant guy who simply won't take evil or stupidity from anyone, any more than Sam Gamgee's father will let the Black Riders into his house. It helps that he has a Scottish accent--and that Rowling, who lives in Scotland, is actually capable of writing lines that suit the accent. He disses the Dursleys in a free and friendly manner, and then yells at them when he finds out that Harry grew up not knowing anything about his parents or their legacy as wizards. When they insult Dumbledore, the headmaster at Hogwarts, he practically kills them: \"Never insult Albus Dumbledore in front of me!\" \n",
      " The terrified Dursleys give in and let Hagrid take Harry out shopping for magical school supplies. We find out that Hagrid was expelled from Hogwarts as a kid (they broke his wand in half and forbid him from practicing magic except in dire circumstances), but that the kindly Dumbledore let him stay on as gatekeeper. Hagrid also explains about Voldemort, who went over to \"the Dark Side\" (they literally call it that) and tried to kill Harry's parents, who were the two best students at Hogwarts back in the day. To this day, Voldemort gets referred to as \"you-know-who\" by the wizards, who still fear the possibility of his eventual return. Harry miraculously survived Voldemort's attempt to kill him and Voldemort hasn't been seen since. \n",
      " Harry causes a lot of excitement when he gets on the train to go to Hogwarts, because in the magical world he's a celebrity known as \"The Boy Who Lived.\" This doesn't stop him from bonding with Ron Weasley, a first-year student who's part of a large family of lovable red-headed Irish types. As a member of a large family myself, I really appreciated the Weasleys, who get some of the best dialogue in the entire book, particularly Fred and George, the twins. Ron is insecure because every single one of his older brothers has already done great things at Hogwarts, and furthermore, since the family is poor, he's armed with his brother's old hand-me-down wand and a different brother's useless pet rat who does nothing but sleep. Unlike Harry, whose parents left him some money in a bank run by goblins, Ron can't afford an owl. (At Hogwarts, \"students may bring a cat OR an owl OR a toad.\" Honestly, I think one of the things that originally grabbed readers about the series was that list of Hogwarts specifications. Who wouldn't want to wear dragon-skin gloves?) \n",
      " The main kid players in the story all get introduced on the train. A boy named Neville shows up, pathetically searching for his missing toad (toads are considered a lame, outdated kind of pet that no one wants to have any more, and Ron even says that if he had a toad, he'd lose it on purpose), and is accompanied by an obnoxiously talkative girl with snarly hair and big front teeth. Ron hopes out loud that he and Harry won't end up in the same house as her. To my surprise, this was Hermione Granger in her earliest stage. She doesn't get character-developed into heroine status until later. Also introduced is Draco Malfoy (real subtle with the Latin there, Rowling, but I have to admit it's kind of a cool last name) who Harry mentally compares to Dudley for being a bully surrounded by lackeys, but who also has the spooky dignity that goes with being a member of Slytherin (the house where all the sneaky trickster types at Hogwarts end up) and having had parents who once worked for Voldemort. \n",
      " The first couple of chapters at Hogwarts are, of course, there to establish how cool the place is. They ride there on boats with lanterns in the dead of night! There's a big feast in the hall and a magical hat that tells you what house you belong in! The mail gets delivered by owls! The hallway is full of ghosts! \n",
      " Then Harry and Ron settle into Hogwarts routine, and they have school problems just like ordinary kids. One of the professors, Severus Snape, hates all the students, except for Draco and especially Harry. Hermione is a know-it-all who tries to boss Harry and Ron around, and the transfiguration class is way harder than it looks. Around here Rowling starts to develop a sort of a plot. There's a secret hidden at Hogwarts (big surprise there) and Harry's eager to uncover it, even if it involves sneaking around at night in violation of the school rules. Hermione follows Ron and Harry around and lectures them until they save her life and she becomes their friend. At this point she starts breaking the rules, too, which make Harry and Ron like her a lot better. This bothered me. I mean, I can understand where, as an author, you'd want to make fun of kids and their constant rule-breaking, but if you're going to establish that Hogwarts is the ultimate force of all good, well, maybe it's a bad idea to also establish that breaking the school rules is better for everybody in the long run. In Rowling's defense, they do get in trouble later and almost cost their house the Quiddich Cup, but still, the key word is almost. They save the day later and it gets them out of losing. \n",
      " The little plot, which involves the hidden Sorcerer's Stone (as in, the Philosopher's Stone...which is what the book was actually called in England, so I guess here in America the publishers figured that kids were too dumb to want to read a book with philosophy in the title) progresses gradually against a backdrop of Harry playing the school sport, Quiddich. He's a natural and his position, that of Seeker, is vital to the team. Considering that Quiddich is a magical sport, it's amusing the way the Quiddich tournaments feel like the basketball games in High School Musical, with Ron, Hagrid and Hermione as onlookers on the edge of their seats. As in High School Musical, our heroes think winning the sports tournament is every bit as important as defeating the bad guys. They're kids, after all. So when Hermione catches Snape muttering what she thinks is a curse to prevent Harry from winning, they decide that he's pure evil and out to steal the Sorcerer's Stone as well. (Turns out later that someone else was cursing Harry, and Snape was merely looking out for a student by muttering the words to protect Harry from the curse...) \n",
      " \"Cursing\" people, by the way, isn't considered a big deal at Hogwarts. Most curses simply take the form of annoying pranks. In one scene Harry considers learning some curses so that he can curse Dudley when gets home, but he's told that that's not a good idea--not because cursing people is evil in any way, or that Dudley doesn't deserve it or anything, but simply because practicing magic of any kind at home could get you found out. At the end of the book, Harry decides that since no one's around to tell him no, he'll just put some curses on Dudley anyway, which really left a bad taste in my mouth, programmed as my tongue is to taste the potential poison in things. \n",
      " Out of all the rule-breaking (which pretty much equals constantly sneaking out), the thing that probably bothered me the most was Harry's decision to pursue clues in the \"restricted\" section of the library. The restricted section is apparently dangerous and full of dark magic, and only certain teachers and older students in advanced levels of \"Defense Against the Dark Arts\" are allowed to read the books--for information, nothing more. Harry just walks right in there and starts opening books, because needless to say, as an eleven-year-old first-year-student trying to tackle a mystery on his own, he's clearly doing the right thing for everybody. \n",
      " Eventually, our heroes find out who the real villain is via a plot point that's heaped haphazardly on top of everything like a slippery scoop of Cool Whip--that of Hagrid's randomly adopting a baby dragon egg. Keeping dragons is illegal in the wizarding world, since they grow to huge sizes and are therefore kind of hard to keep secret. Now Hagrid gets attached to the dragon egg, which is why he doesn't want to give it up. It's understandable, but at the same time it seems out-of-character for the loyal Hagrid to want to do something illegal and keep it from the kind, understanding Dumbledore. Go figure. \n",
      " Dumbledore. Why doesn't anyone ever tell him anything? This guy is supposed to be the wisest wizard ever, the only person Voldemort is afraid of, who's dealt with stuff like this before, and yet nobody ever says a word to him about the intrigue going on at his own school. When Harry starts to unravel everything, and Hermione suggests that they tell Dumbledore about it, Harry vetoes the suggestion because they don't have any evidence, which is pathetic. You're not even gonna try to make Mr. Understanding understand? Man, Harry, all that time with the Dursleys has really embittered you towards authority, hasn't it? \n",
      " (Speaking of the Dursleys, they send Harry Potter a fifty-pence piece as a Christmas present, which is supposed to show how utterly stingy they are toward him, but wait, if they were gonna send him something lame anyway, then why did they go to all the trouble and expense of having it delivered to him by owl? I get it that they're mean, I just don't get it that they're mean in complete and utter defiance of logic.) \n",
      " Just as I see the influence of classic books in Harry Potter, particularly The Chronicles of Narnia (unicorns and stargazing centaurs in the same scene?), I now understand the shades of Harry Potter's influence which color a few of my favorites. The Percy Jackson series, with its camp full of characters from Greek mythology and its demigod children that are assigned to special cabins by their godly parents, not to mention its main character who has a certain degree of fame inherent with his birth, comes to mind immediately. (To be fair, Rick Riordan has a field day with the borrowed format and the series doesn't feel stolen at all.) Similarly, Harry's constant feelings of \"I'm-not-a-hero-you-must-be-wrong\" probably informed Reynie Muldoon in The Mysterious Benedict Society. Reynie, like Harry, is half-shoved into heroism--likable, polite, good-hearted, and a wee bit unsure of himself. He's an orphan who's always longed for opportunities, who, along with several others, gets picked out from the common crowd as unusual and placed under the guidance of a somewhat Dumbledorian father figure, Mr. Benedict. \n",
      " I might add that the popularity of this series shows that it might be a good idea to bring more obscure books like Five Children and It back into the public eye. There's something about a narrator who doubles as a storyteller that speaks to a reader. Businessmen and young authors spend a lot of time wondering what makes certain books popular. I'd say that, just as Twilight's popularity was based on its wish-fulfillment romance, Harry Potter's resonance is based on its roots in lesser-read classics that were, after all, classics for a reason. \n",
      " Before I wrap up I'd like to throw a mention to the book's most complex character--Neville. A sort-of sidekick to Hermione, he gets punched around by Draco Malfoy and his goons until Harry teaches him how to stand up for himself. After this happens, he tries to prevent Harry and the others from leaving at a pivotal moment when he feels the need to keep them safe, telling them that, after all, they were the ones who taught him to stand up for himself. Since there's no time to be polite, Hermione has to use a spell to freeze him to the spot, although she adds a teary-eyed apology because she's now the heroine. But Neville's not considered a coward: at the end, he's, quite rightly, rewarded for having the courage to stand up to friends--thus sealing the win for Gryffindor and teaching a lesson that's actually worth learning. \n",
      " So why is all the merchandise about Harry, Ron and Hermione? Why did I have no idea who Neville was until I read the book, even though he gets almost as much page time as the three others? Marketing makes no sense. I'm also curious to know a little of Neville's backstory; why is he always with Hermione? Did they know each other as children? Does he rely on her? \n",
      " Oh, yeah, and for someone who's only said a few tantalizing words about the beauty of poison taking effect, Snape is an interesting fellow, indeed.\n",
      "\n"
     ]
    }
   ],
   "source": [
    "non_text = 'This review also appears on BookDigits, which offers a brand new way of rating, reviewing, and discovering books. \\n Grade: A- \\n L/C Ratio: 30% Literary / 70% Commercial \\n Thematic Breakdown: \\n 30% - Magic \\n 25% - Adventure \\n 20% - Friendship \\n 15% - Mystery \\n 10% - School \\n Addictiveness: High \\n Movie Potential: 2 Thumbs Up \\n Re-readability: High \\n This is my second time through the series. More than a decade has passed since my first reading of \"The Sorcerer\\'s Stone.\" Both Rowling\\'s world-building and Harry\\'s origin story remain as awesome as I remember them. The mysteries and revelations that dominate the second half of the book can be somewhat clumsy and convenient, but they succeed in raising the stakes of the plot.'\n",
    "unrelated = 'My boyfriend and I are read this book together this summer. My goal was to get him to read more since it is one of my favorite hobbies, so I let him pick the book we read. He chose Harry Potter. Well, I guess it was about time I finally read this book :P Not to brag or anything... but finished before him ;) haha. I enjoyed this book. It was a really good kids book. It is a fast, easy read, but like I said earlier it was defiantly written for someone younger. \\n I would give this book a 3.5 stars, so I am rounding it up to 4 stars!'\n",
    "ramble = '** spoiler alert ** \\n [review no longer makes sense, since I wrote it when I was sixteen. I\\'m seventeen now. And less hard on the Dursleys.] \\n I\\'m sixteen years old, and until yesterday, I\\'d never read a Harry Potter book. \\n That\\'s right, I\\'m The Girl Who Lived. Without Harry Potter. (Heh, that was a joke.) \\n I have always professed to be a compulsive reader, but no one really believes me after they find out I haven\\'t read Harry Potter. It seems to them like kind of a huge thing to have missed. I can understand that, but if, like me, you\\'ve never read this series, trust me--I am you. I feel your pain. \\n So yesterday I finally read the first book, after years of sheepishly admitting to others that I hadn\\'t read my generation\\'s most popular series, after years of learning all about Harry and Ron and Voldemort and Hermione secondhand. \\n Enough preliminaries. It\\'s time for literary comparisons. \\n J.K. Rowling is a really excellent storyteller. Her voice reminded me of many of the old children\\'s authors I read when I was younger (back when everyone else was reading Harry Potter)--C.S. Lewis, E. Nesbit, J.R.R. Tolkien. An example of writing that could have slipped straight out of Narnia or Five Children And It: in Chapter 1 the huge motorcyclist, Hagrid, is delightfully described in the narrative as looking \"simply too big to be allowed.\" Maybe it\\'s the common bond of authors who start their names with their initials. \\n There\\'s some Roald Dahl in Rowling\\'s writing, too. Okay, lots of Roald Dahl. Spades of Roald Dahl. \\n After the opening chapter, which is eye-catching and involves strange things happening, strange characters meeting up, and a strange baby boy being left on the doorstep of his boring uncle and aunt, the story starts to feel like a blend of Matilda and Jane Eyre with a male protagonist. The Dursleys are obsessed with their spoiled son, Dudley, and gleefully indulge his temper tantrums, breaking of expensive objects, and abuse of Harry. They hate Harry, and fortunately they\\'re sort of, kind of given a reason to--they simply don\\'t want to get mixed up with all this weird wizardry that his parents were a part of--but it still feels unrealistic. Not that it\\'s supposed to feel realistic at all--it\\'s simply following in the Matilda/Jane Eyre tradition of putting the main character under the care of unreasonably hateful and unlikable people. Actually, that tradition is as old as time itself, and dates back to the first fairy tales. It\\'s a formula that instantly grabs attention and sympathy, especially from children, who don\\'t have any disbelief to suspend and who wish that they had such a great excuse to be discontented. When I was little, my absolute favorite game to play with myself was the one in which I was an unwanted, unloved servant girl working in a rich household for a cruel lady who favored her own daughters over me. This private fantasy of mine was usually pulled out at the times when I was stuck doing things like poring over my times-tables or picking my shoes and toys up off the living-room floor. There\\'s nothing quite so comforting as an imaginary refuge from the scourge of loving parents who give you one or two chores and who only want the best for you. Suddenly, I\\'m remembering a scene from Mrs. Piggle-Wiggle, where a girl complains that her mother probably got her from an orphanage just so that she could wash the dishes. Good authors know the minds of their target audience. \\n At any rate, Harry Potter lives in a closet under the staircase--not for lack of rooms in the Dursley\\'s house, but simply because the Dursleys feel like putting him there--and is frequently beaten senseless by Dudley and his lackeys. (Dudley\\'s a bit of an unaccountable phenomenon. For some reason, he\\'s managed to be an overweight, crybaby idiot who never exercises and does nothing but watch TV...who can beat up Harry without breaking a sweat. Harry\\'s a skinny little lad who\\'s only able to get away from Dudley because he\\'s extremely fast...to which I say, then why don\\'t you work out and get some muscle, Harry? You can take that couch potato, can\\'t you?) \\n Every year, Harry Potter stays with the local crazy cat lady while Dudley goes out for his birthday. (And if you think that Harry Potter gets his birthday celebrated, well, you need to read more Roald Dahl.) This year, however, is different, because the crazy cat lady broke her leg somehow. For some reason there\\'s no one else available to babysit. The Dursleys don\\'t trust Harry in the house alone, because he\\'s done one or two magical things without meaning to, but more importantly because they just hate his guts. So, with everything in the plot being somehow against them, the Dursleys are reluctantly forced to do the most out-of-character thing imaginable. They take their nephew with them to the zoo. Harry has the time of his life and is even delighted at having managed to buy a \"cheap ice pop\" before his aunt and uncle could stop him. They would, of course, have swooped down immediately and prevented him from having had any kind of fun at all, except that they were busy buying Dudley and his random tag-along friend/number one lackey a big chocolate ice-cream-cone apiece. That\\'s right, even Dudley\\'s random friends get better treatment than Harry Potter. \\n Everything\\'s going great until Harry hits the reptile exhibit and finds himself able to communicate with one of the snakes, who hates being in his glass enclosure and wants to make a break for Brazil. Suddenly the glass in the front of the tank is gone, the snake is slithering away, everyone is freaking out (especially Dudley, who is never for a second allowed to have any dignity), and Harry swears he heard the snake thank him. The Dursleys know that all this is undoubtedly one hundred percent Harry\\'s fault, so they instantly whisk him home and lock him in his cobwebby closet for the night. Considering that this is Britain, where the child protective services are even more insane than they are here, this aspect of the story is probably even less likely than all the magic. \\n Then, Harry gets a letter addressed to him. It\\'s even directed to \"the cupboard under the stairs.\" Harry\\'s uncle takes one look at the letter and tears it up before Harry has a chance to read a word of it. Although this is what we\\'d all expect him to do after those earlier chapters, it turns out not to be more pointless Dursley meanness--he\\'s determined to keep something from Harry, which becomes clear when the senders of the letter refuse to give up and start sending more letters, all of which are destroyed--letters coming down the chimney, under the doors and windows, everywhere that they can possibly come. Frightened and unable to keep up all this destroying, Harry\\'s uncle packs everyone in the car and drives them out to the middle of nowhere just so that they won\\'t get any more letters. In the midst of all this, everyone but Harry has forgotten that tomorrow is Harry\\'s eleventh birthday, which is fine, because they weren\\'t going to celebrate it anyway. \\n There\\'s a great moment that night in the little sea-shack that the Dursleys rent, when Harry Potter sits up and counts down the seconds to his eleventh birthday on the sleeping Dudley\\'s watch. Despite everything, Harry\\'s hugely excited to be turning eleven, and he\\'s even more excited when a giant on a motorcycle comes bursting in out of nowhere, wishes him a happy birthday, and scares the Dursleys half to death. \\n This giant is Hagrid, and I thoroughly enjoyed him in these first couple of chapters. He\\'s another element of the story that feels extremely classic, the simple, salt-of-the-earth peasant guy who simply won\\'t take evil or stupidity from anyone, any more than Sam Gamgee\\'s father will let the Black Riders into his house. It helps that he has a Scottish accent--and that Rowling, who lives in Scotland, is actually capable of writing lines that suit the accent. He disses the Dursleys in a free and friendly manner, and then yells at them when he finds out that Harry grew up not knowing anything about his parents or their legacy as wizards. When they insult Dumbledore, the headmaster at Hogwarts, he practically kills them: \"Never insult Albus Dumbledore in front of me!\" \\n The terrified Dursleys give in and let Hagrid take Harry out shopping for magical school supplies. We find out that Hagrid was expelled from Hogwarts as a kid (they broke his wand in half and forbid him from practicing magic except in dire circumstances), but that the kindly Dumbledore let him stay on as gatekeeper. Hagrid also explains about Voldemort, who went over to \"the Dark Side\" (they literally call it that) and tried to kill Harry\\'s parents, who were the two best students at Hogwarts back in the day. To this day, Voldemort gets referred to as \"you-know-who\" by the wizards, who still fear the possibility of his eventual return. Harry miraculously survived Voldemort\\'s attempt to kill him and Voldemort hasn\\'t been seen since. \\n Harry causes a lot of excitement when he gets on the train to go to Hogwarts, because in the magical world he\\'s a celebrity known as \"The Boy Who Lived.\" This doesn\\'t stop him from bonding with Ron Weasley, a first-year student who\\'s part of a large family of lovable red-headed Irish types. As a member of a large family myself, I really appreciated the Weasleys, who get some of the best dialogue in the entire book, particularly Fred and George, the twins. Ron is insecure because every single one of his older brothers has already done great things at Hogwarts, and furthermore, since the family is poor, he\\'s armed with his brother\\'s old hand-me-down wand and a different brother\\'s useless pet rat who does nothing but sleep. Unlike Harry, whose parents left him some money in a bank run by goblins, Ron can\\'t afford an owl. (At Hogwarts, \"students may bring a cat OR an owl OR a toad.\" Honestly, I think one of the things that originally grabbed readers about the series was that list of Hogwarts specifications. Who wouldn\\'t want to wear dragon-skin gloves?) \\n The main kid players in the story all get introduced on the train. A boy named Neville shows up, pathetically searching for his missing toad (toads are considered a lame, outdated kind of pet that no one wants to have any more, and Ron even says that if he had a toad, he\\'d lose it on purpose), and is accompanied by an obnoxiously talkative girl with snarly hair and big front teeth. Ron hopes out loud that he and Harry won\\'t end up in the same house as her. To my surprise, this was Hermione Granger in her earliest stage. She doesn\\'t get character-developed into heroine status until later. Also introduced is Draco Malfoy (real subtle with the Latin there, Rowling, but I have to admit it\\'s kind of a cool last name) who Harry mentally compares to Dudley for being a bully surrounded by lackeys, but who also has the spooky dignity that goes with being a member of Slytherin (the house where all the sneaky trickster types at Hogwarts end up) and having had parents who once worked for Voldemort. \\n The first couple of chapters at Hogwarts are, of course, there to establish how cool the place is. They ride there on boats with lanterns in the dead of night! There\\'s a big feast in the hall and a magical hat that tells you what house you belong in! The mail gets delivered by owls! The hallway is full of ghosts! \\n Then Harry and Ron settle into Hogwarts routine, and they have school problems just like ordinary kids. One of the professors, Severus Snape, hates all the students, except for Draco and especially Harry. Hermione is a know-it-all who tries to boss Harry and Ron around, and the transfiguration class is way harder than it looks. Around here Rowling starts to develop a sort of a plot. There\\'s a secret hidden at Hogwarts (big surprise there) and Harry\\'s eager to uncover it, even if it involves sneaking around at night in violation of the school rules. Hermione follows Ron and Harry around and lectures them until they save her life and she becomes their friend. At this point she starts breaking the rules, too, which make Harry and Ron like her a lot better. This bothered me. I mean, I can understand where, as an author, you\\'d want to make fun of kids and their constant rule-breaking, but if you\\'re going to establish that Hogwarts is the ultimate force of all good, well, maybe it\\'s a bad idea to also establish that breaking the school rules is better for everybody in the long run. In Rowling\\'s defense, they do get in trouble later and almost cost their house the Quiddich Cup, but still, the key word is almost. They save the day later and it gets them out of losing. \\n The little plot, which involves the hidden Sorcerer\\'s Stone (as in, the Philosopher\\'s Stone...which is what the book was actually called in England, so I guess here in America the publishers figured that kids were too dumb to want to read a book with philosophy in the title) progresses gradually against a backdrop of Harry playing the school sport, Quiddich. He\\'s a natural and his position, that of Seeker, is vital to the team. Considering that Quiddich is a magical sport, it\\'s amusing the way the Quiddich tournaments feel like the basketball games in High School Musical, with Ron, Hagrid and Hermione as onlookers on the edge of their seats. As in High School Musical, our heroes think winning the sports tournament is every bit as important as defeating the bad guys. They\\'re kids, after all. So when Hermione catches Snape muttering what she thinks is a curse to prevent Harry from winning, they decide that he\\'s pure evil and out to steal the Sorcerer\\'s Stone as well. (Turns out later that someone else was cursing Harry, and Snape was merely looking out for a student by muttering the words to protect Harry from the curse...) \\n \"Cursing\" people, by the way, isn\\'t considered a big deal at Hogwarts. Most curses simply take the form of annoying pranks. In one scene Harry considers learning some curses so that he can curse Dudley when gets home, but he\\'s told that that\\'s not a good idea--not because cursing people is evil in any way, or that Dudley doesn\\'t deserve it or anything, but simply because practicing magic of any kind at home could get you found out. At the end of the book, Harry decides that since no one\\'s around to tell him no, he\\'ll just put some curses on Dudley anyway, which really left a bad taste in my mouth, programmed as my tongue is to taste the potential poison in things. \\n Out of all the rule-breaking (which pretty much equals constantly sneaking out), the thing that probably bothered me the most was Harry\\'s decision to pursue clues in the \"restricted\" section of the library. The restricted section is apparently dangerous and full of dark magic, and only certain teachers and older students in advanced levels of \"Defense Against the Dark Arts\" are allowed to read the books--for information, nothing more. Harry just walks right in there and starts opening books, because needless to say, as an eleven-year-old first-year-student trying to tackle a mystery on his own, he\\'s clearly doing the right thing for everybody. \\n Eventually, our heroes find out who the real villain is via a plot point that\\'s heaped haphazardly on top of everything like a slippery scoop of Cool Whip--that of Hagrid\\'s randomly adopting a baby dragon egg. Keeping dragons is illegal in the wizarding world, since they grow to huge sizes and are therefore kind of hard to keep secret. Now Hagrid gets attached to the dragon egg, which is why he doesn\\'t want to give it up. It\\'s understandable, but at the same time it seems out-of-character for the loyal Hagrid to want to do something illegal and keep it from the kind, understanding Dumbledore. Go figure. \\n Dumbledore. Why doesn\\'t anyone ever tell him anything? This guy is supposed to be the wisest wizard ever, the only person Voldemort is afraid of, who\\'s dealt with stuff like this before, and yet nobody ever says a word to him about the intrigue going on at his own school. When Harry starts to unravel everything, and Hermione suggests that they tell Dumbledore about it, Harry vetoes the suggestion because they don\\'t have any evidence, which is pathetic. You\\'re not even gonna try to make Mr. Understanding understand? Man, Harry, all that time with the Dursleys has really embittered you towards authority, hasn\\'t it? \\n (Speaking of the Dursleys, they send Harry Potter a fifty-pence piece as a Christmas present, which is supposed to show how utterly stingy they are toward him, but wait, if they were gonna send him something lame anyway, then why did they go to all the trouble and expense of having it delivered to him by owl? I get it that they\\'re mean, I just don\\'t get it that they\\'re mean in complete and utter defiance of logic.) \\n Just as I see the influence of classic books in Harry Potter, particularly The Chronicles of Narnia (unicorns and stargazing centaurs in the same scene?), I now understand the shades of Harry Potter\\'s influence which color a few of my favorites. The Percy Jackson series, with its camp full of characters from Greek mythology and its demigod children that are assigned to special cabins by their godly parents, not to mention its main character who has a certain degree of fame inherent with his birth, comes to mind immediately. (To be fair, Rick Riordan has a field day with the borrowed format and the series doesn\\'t feel stolen at all.) Similarly, Harry\\'s constant feelings of \"I\\'m-not-a-hero-you-must-be-wrong\" probably informed Reynie Muldoon in The Mysterious Benedict Society. Reynie, like Harry, is half-shoved into heroism--likable, polite, good-hearted, and a wee bit unsure of himself. He\\'s an orphan who\\'s always longed for opportunities, who, along with several others, gets picked out from the common crowd as unusual and placed under the guidance of a somewhat Dumbledorian father figure, Mr. Benedict. \\n I might add that the popularity of this series shows that it might be a good idea to bring more obscure books like Five Children and It back into the public eye. There\\'s something about a narrator who doubles as a storyteller that speaks to a reader. Businessmen and young authors spend a lot of time wondering what makes certain books popular. I\\'d say that, just as Twilight\\'s popularity was based on its wish-fulfillment romance, Harry Potter\\'s resonance is based on its roots in lesser-read classics that were, after all, classics for a reason. \\n Before I wrap up I\\'d like to throw a mention to the book\\'s most complex character--Neville. A sort-of sidekick to Hermione, he gets punched around by Draco Malfoy and his goons until Harry teaches him how to stand up for himself. After this happens, he tries to prevent Harry and the others from leaving at a pivotal moment when he feels the need to keep them safe, telling them that, after all, they were the ones who taught him to stand up for himself. Since there\\'s no time to be polite, Hermione has to use a spell to freeze him to the spot, although she adds a teary-eyed apology because she\\'s now the heroine. But Neville\\'s not considered a coward: at the end, he\\'s, quite rightly, rewarded for having the courage to stand up to friends--thus sealing the win for Gryffindor and teaching a lesson that\\'s actually worth learning. \\n So why is all the merchandise about Harry, Ron and Hermione? Why did I have no idea who Neville was until I read the book, even though he gets almost as much page time as the three others? Marketing makes no sense. I\\'m also curious to know a little of Neville\\'s backstory; why is he always with Hermione? Did they know each other as children? Does he rely on her? \\n Oh, yeah, and for someone who\\'s only said a few tantalizing words about the beauty of poison taking effect, Snape is an interesting fellow, indeed.'\n",
    "\n",
    "print(non_text, end=\"\\n\\n\")\n",
    "print(unrelated, end=\"\\n\\n\")\n",
    "print(ramble, end=\"\\n\\n\")"
   ]
  },
  {
   "cell_type": "code",
   "execution_count": 3,
   "metadata": {},
   "outputs": [],
   "source": [
    "name_pegasus = \"google/pegasus-xsum\"\n",
    "name_bart = \"sshleifer/distilbart-cnn-12-6\"\n",
    "\n",
    "summarizer_pegasus = pipeline(\"summarization\", model=name_pegasus)\n",
    "summarizer_bart = pipeline(\"summarization\", model=name_bart)"
   ]
  },
  {
   "cell_type": "code",
   "execution_count": 4,
   "metadata": {},
   "outputs": [
    {
     "name": "stdout",
     "output_type": "stream",
     "text": [
      "\"Harry Potter and the Philosopher's Stone\" is the seventh and final book in JK Rowling's Harry Potter series.\n",
      "\n",
      " Rowling's world-building and Harry's origin story remain as awesome as I remember them . The mysteries and revelations that dominate the second half of the book can be somewhat clumsy and convenient, but they succeed in raising the stakes of the plot . This review also appears on BookDigits, which offers a brand new way of rating, reviewing, and discovering books .\n"
     ]
    }
   ],
   "source": [
    "print(summarizer_pegasus(non_text)[0][\"summary_text\"])\n",
    "print()\n",
    "print(summarizer_bart(non_text)[0][\"summary_text\"])"
   ]
  },
  {
   "cell_type": "code",
   "execution_count": 5,
   "metadata": {},
   "outputs": [
    {
     "name": "stderr",
     "output_type": "stream",
     "text": [
      "Your max_length is set to 142, but you input_length is only 134. You might consider decreasing max_length manually, e.g. summarizer('...', max_length=67)\n"
     ]
    },
    {
     "name": "stdout",
     "output_type": "stream",
     "text": [
      "This book is defiantly written for someone younger.\n",
      "\n",
      " My boyfriend and I are read this book together this summer . It was a really good kids book . It is a fast, easy read, but like I said earlier it was defiantly written for someone younger . I would give this book a 3.5 stars, so I am rounding it up to 4 stars!\n"
     ]
    }
   ],
   "source": [
    "print(summarizer_pegasus(unrelated)[0][\"summary_text\"])\n",
    "print()\n",
    "print(summarizer_bart(unrelated)[0][\"summary_text\"])"
   ]
  },
  {
   "cell_type": "markdown",
   "metadata": {},
   "source": [
    "Both summarizer have a maximum text length of text they are able to summarize. For that reason, I tried several apporoaches for summarizing longer reviews, based on breaking up the review into smaller parts, summarizing them and putting the results together."
   ]
  },
  {
   "cell_type": "code",
   "execution_count": 6,
   "metadata": {},
   "outputs": [],
   "source": [
    "def oversummarize_naive(summarizer, text, rounds=3, step=1000, verbosity=0):\n",
    "    for r in range(1, rounds + 1):\n",
    "        if verbosity > 0:\n",
    "            print(f\"ROUND {r}\")\n",
    "        \n",
    "        summary = []\n",
    "        for i in range(0, len(text), step):\n",
    "            step_text = text[i:i + step]\n",
    "            step_summary = summarizer(step_text)[0][\"summary_text\"]\n",
    "            summary.append(step_summary)\n",
    "        text = \" \".join(summary)\n",
    "\n",
    "        if verbosity == 2:\n",
    "            print(text)\n",
    "        \n",
    "        if len(text) < step:\n",
    "            return text\n",
    "    return text\n",
    "\n",
    "def chunker(text, step):\n",
    "    sents = nltk.sent_tokenize(text)\n",
    "    tokenized = [nltk.word_tokenize(sent) for sent in sents]\n",
    "    \n",
    "    detokenizer = nltk.tokenize.treebank.TreebankWordDetokenizer()\n",
    "    \n",
    "    chunks = []\n",
    "    chunk = []\n",
    "    for sent in tokenized:\n",
    "        if len(chunk) + len(sent) < step:\n",
    "            chunk.extend(sent)\n",
    "        else:\n",
    "            chunks.append(detokenizer.detokenize(chunk))\n",
    "            chunk = []\n",
    "    \n",
    "    if len(chunk) > 5:\n",
    "        chunks.append(detokenizer.detokenize(chunk))\n",
    "\n",
    "    return chunks\n",
    "\n",
    "def parachunker(text, step):\n",
    "    paragraphs = text.split(\"\\n\")\n",
    "    result = []\n",
    "\n",
    "    for paragraph in paragraphs:\n",
    "        if len(nltk.word_tokenize(paragraph)) > step:\n",
    "            result.extend(chunker(paragraph, step))\n",
    "        else:\n",
    "            result.append(paragraph)\n",
    "    return result\n",
    "\n",
    "def oversummarize_sensitive(text_chunker, summarizer, text, rounds=3, step=500, verbosity=0):\n",
    "    for r in range(1, rounds + 1):\n",
    "        if verbosity > 0:\n",
    "            print(f\"ROUND {r}\")\n",
    "        \n",
    "        chunks = text_chunker(text, step)\n",
    "        summary = [step_sum[\"summary_text\"] for step_sum in summarizer(chunks)]\n",
    "        \n",
    "        assert len(chunks) == len(summary)\n",
    "        \n",
    "        if verbosity > 1:\n",
    "            for i in range(len(chunks)):\n",
    "                print(chunks[i])\n",
    "                print(summary[i])\n",
    "                print()\n",
    "        text = \" \".join(summary)\n",
    "\n",
    "        if verbosity == 1:\n",
    "            print(text)\n",
    "\n",
    "        if len(nltk.word_tokenize(text)) < step:\n",
    "            return text\n",
    "    return text\n",
    "\n",
    "def oversummarize_sent_sensitive(summarizer, text, rounds=3, step=500, verbosity=0):\n",
    "    return oversummarize_sensitive(chunker, summarizer, text, rounds, step, verbosity)\n",
    "\n",
    "def oversummarize_para_sensitive(summarizer, text, rounds=3, step=500, verbosity=0):\n",
    "    return oversummarize_sensitive(parachunker, summarizer, text, rounds, step, verbosity)"
   ]
  },
  {
   "cell_type": "markdown",
   "metadata": {},
   "source": [
    "The naive approach splits the review after a fixed number of characters."
   ]
  },
  {
   "cell_type": "code",
   "execution_count": 7,
   "metadata": {},
   "outputs": [
    {
     "name": "stderr",
     "output_type": "stream",
     "text": [
      "Your max_length is set to 64, but you input_length is only 20. You might consider decreasing max_length manually, e.g. summarizer('...', max_length=10)\n"
     ]
    },
    {
     "name": "stdout",
     "output_type": "stream",
     "text": [
      "In the latest Harry Potter spin-off, Harry Potter and the Cursed Child, we get to meet Hagrid, Harry's former teacher at Hogwarts. Harry Potter and the Philosopher's Stone is out on DVD and Blu-ray this week, and it's a pretty good introduction to the world of Harry Potter. The first trailer for the new Harry Potter spin-off, Fantastic Beasts and Where to Find Them, has been released.\n",
      "\n"
     ]
    },
    {
     "name": "stderr",
     "output_type": "stream",
     "text": [
      "Your max_length is set to 142, but you input_length is only 84. You might consider decreasing max_length manually, e.g. summarizer('...', max_length=42)\n",
      "Your max_length is set to 142, but you input_length is only 86. You might consider decreasing max_length manually, e.g. summarizer('...', max_length=43)\n"
     ]
    },
    {
     "name": "stdout",
     "output_type": "stream",
     "text": [
      " J.K. Rowling is a really excellent storyteller, and her voice reminded me of many of the old child characters . The story starts to feel like a blend of Matilda and Jane Eyre with a male protagonist . Harry Potter lives in a closet under the staircase, but simply because the Dursleys feel like putting him there .  The main kid players in the story all get introduced on the train . To my surprise, this was Hermione Granger in her earliest stage . Harry Potter's constant feelings of \"I'm-not-a-hero-you-must-be-wrong\" probably informed Reynie Muldoon in The Mysterious Benedict Society .  Neville's not considered a coward: at the end, he's, quite rightly, rewarded for having the courage to stand up to friends . So why is all the merchandise about Harry, Ron and Hermione? I'm also curious to know a little of Neville's backstory; why is he always with Hermione?\n"
     ]
    }
   ],
   "source": [
    "print(oversummarize_naive(summarizer_pegasus, ramble))\n",
    "print()\n",
    "print(oversummarize_naive(summarizer_bart, ramble))"
   ]
  },
  {
   "cell_type": "markdown",
   "metadata": {},
   "source": [
    "In the latest Harry Potter spin-off, Harry Potter and the Cursed Child, we get to meet Hagrid, Harry's former teacher at Hogwarts. Harry Potter and the Philosopher's Stone is out on DVD and Blu-ray this week, and it's a pretty good introduction to the world of Harry Potter. The first trailer for the new Harry Potter spin-off, Fantastic Beasts and Where to Find Them, has been released.\n",
    "\n",
    " J.K. Rowling is a really excellent storyteller, and her voice reminded me of many of the old child characters . The story starts to feel like a blend of Matilda and Jane Eyre with a male protagonist . Harry Potter lives in a closet under the staircase, but simply because the Dursleys feel like putting him there .  The main kid players in the story all get introduced on the train . To my surprise, this was Hermione Granger in her earliest stage . Harry Potter's constant feelings of \"I'm-not-a-hero-you-must-be-wrong\" probably informed Reynie Muldoon in The Mysterious Benedict Society .  Neville's not considered a coward: at the end, he's, quite rightly, rewarded for having the courage to stand up to friends . So why is all the merchandise about Harry, Ron and Hermione? I'm also curious to know a little of Neville's backstory; why is he always with Hermione?"
   ]
  },
  {
   "cell_type": "markdown",
   "metadata": {},
   "source": [
    "The second approach splits the text on only on sentence ends."
   ]
  },
  {
   "cell_type": "code",
   "execution_count": 8,
   "metadata": {},
   "outputs": [
    {
     "name": "stdout",
     "output_type": "stream",
     "text": [
      "Harry Potter and the Cursed Child is the seventh and final book in the Harry Potter series. If you've read the Harry Potter books, you'll know that the Dursleys are not the nicest people in the world. In Harry Potter and the Philosopher's Stone, Harry is babysitting his aunt and uncle's four-year-old nephew. Harry Potter and the Philosopher's Stone begins with the Dursleys, Harry's family, getting their hands on all the letters that Voldemort sent to Harry's parents. Harry Potter and the Philosopher's Stone is the seventh and final book in the Harry Potter series. Harry and Ron go to Hogwarts for the first time in the seventh and final book in the Harry Potter series. In Harry Potter and the Philosopher's Stone, Harry and Hermione are determined to stop Snape from stealing the Sorcerer's Stone. I've been thinking a lot about Harry Potter and the Half-Blood Prince lately, and one of the things that struck me most was how much of the story is about Harry Potter's relationship with his Headmaster, Mr. I've been reading Harry Potter and the Deathly Hallows, the seventh and final book in the series.\n",
      "\n",
      " J.K. Rowling is a really excellent storyteller . Her voice reminded me of many of the old children's authors I read when I was younger . Harry Potter's resonance is based on its roots in lesser-read classics that were, after all, classics for a reason . The Weasleys get some of the best dialogue in the book, particularly Fred and George, the twins .\n"
     ]
    }
   ],
   "source": [
    "print(oversummarize_sent_sensitive(summarizer_pegasus, ramble, step=450))\n",
    "print()\n",
    "print(oversummarize_sent_sensitive(summarizer_bart, ramble))"
   ]
  },
  {
   "cell_type": "markdown",
   "metadata": {},
   "source": [
    "Harry Potter and the Cursed Child is the seventh and final book in the Harry Potter series. If you've read the Harry Potter books, you'll know that the Dursleys are not the nicest people in the world. In Harry Potter and the Philosopher's Stone, Harry is babysitting his aunt and uncle's four-year-old nephew. Harry Potter and the Philosopher's Stone begins with the Dursleys, Harry's family, getting their hands on all the letters that Voldemort sent to Harry's parents. Harry Potter and the Philosopher's Stone is the seventh and final book in the Harry Potter series. Harry and Ron go to Hogwarts for the first time in the seventh and final book in the Harry Potter series. In Harry Potter and the Philosopher's Stone, Harry and Hermione are determined to stop Snape from stealing the Sorcerer's Stone. I've been thinking a lot about Harry Potter and the Half-Blood Prince lately, and one of the things that struck me most was how much of the story is about Harry Potter's relationship with his Headmaster, Mr. I've been reading Harry Potter and the Deathly Hallows, the seventh and final book in the series.\n",
    "\n",
    " J.K. Rowling is a really excellent storyteller . Her voice reminded me of many of the old children's authors I read when I was younger . Harry Potter's resonance is based on its roots in lesser-read classics that were, after all, classics for a reason . The Weasleys get some of the best dialogue in the book, particularly Fred and George, the twins ."
   ]
  },
  {
   "cell_type": "markdown",
   "metadata": {},
   "source": [
    "The third approach summarizes each paragraph and then combines the results."
   ]
  },
  {
   "cell_type": "code",
   "execution_count": 9,
   "metadata": {},
   "outputs": [
    {
     "name": "stderr",
     "output_type": "stream",
     "text": [
      "Your max_length is set to 64, but you input_length is only 6. You might consider decreasing max_length manually, e.g. summarizer('...', max_length=3)\n",
      "Your max_length is set to 64, but you input_length is only 34. You might consider decreasing max_length manually, e.g. summarizer('...', max_length=17)\n",
      "Your max_length is set to 64, but you input_length is only 23. You might consider decreasing max_length manually, e.g. summarizer('...', max_length=11)\n",
      "Your max_length is set to 64, but you input_length is only 30. You might consider decreasing max_length manually, e.g. summarizer('...', max_length=15)\n",
      "Your max_length is set to 64, but you input_length is only 48. You might consider decreasing max_length manually, e.g. summarizer('...', max_length=24)\n",
      "Your max_length is set to 64, but you input_length is only 16. You might consider decreasing max_length manually, e.g. summarizer('...', max_length=8)\n",
      "Your max_length is set to 64, but you input_length is only 29. You might consider decreasing max_length manually, e.g. summarizer('...', max_length=14)\n",
      "Your max_length is set to 64, but you input_length is only 34. You might consider decreasing max_length manually, e.g. summarizer('...', max_length=17)\n",
      "Your max_length is set to 142, but you input_length is only 7. You might consider decreasing max_length manually, e.g. summarizer('...', max_length=3)\n"
     ]
    },
    {
     "name": "stdout",
     "output_type": "stream",
     "text": [
      "A look back at some of the most memorable moments from this year's Rugby World Cup. This is my final review of Harry Potter and the Philosopher's Stone.\n",
      "\n"
     ]
    },
    {
     "name": "stderr",
     "output_type": "stream",
     "text": [
      "Your max_length is set to 142, but you input_length is only 34. You might consider decreasing max_length manually, e.g. summarizer('...', max_length=17)\n",
      "Your max_length is set to 142, but you input_length is only 23. You might consider decreasing max_length manually, e.g. summarizer('...', max_length=11)\n",
      "Your max_length is set to 142, but you input_length is only 29. You might consider decreasing max_length manually, e.g. summarizer('...', max_length=14)\n",
      "Your max_length is set to 142, but you input_length is only 77. You might consider decreasing max_length manually, e.g. summarizer('...', max_length=38)\n",
      "Your max_length is set to 142, but you input_length is only 49. You might consider decreasing max_length manually, e.g. summarizer('...', max_length=24)\n",
      "Your max_length is set to 142, but you input_length is only 16. You might consider decreasing max_length manually, e.g. summarizer('...', max_length=8)\n",
      "Your max_length is set to 142, but you input_length is only 131. You might consider decreasing max_length manually, e.g. summarizer('...', max_length=65)\n",
      "Your max_length is set to 142, but you input_length is only 32. You might consider decreasing max_length manually, e.g. summarizer('...', max_length=16)\n",
      "Your max_length is set to 142, but you input_length is only 94. You might consider decreasing max_length manually, e.g. summarizer('...', max_length=47)\n",
      "Your max_length is set to 142, but you input_length is only 75. You might consider decreasing max_length manually, e.g. summarizer('...', max_length=37)\n",
      "Your max_length is set to 142, but you input_length is only 135. You might consider decreasing max_length manually, e.g. summarizer('...', max_length=67)\n",
      "Your max_length is set to 142, but you input_length is only 139. You might consider decreasing max_length manually, e.g. summarizer('...', max_length=69)\n",
      "Your max_length is set to 142, but you input_length is only 136. You might consider decreasing max_length manually, e.g. summarizer('...', max_length=68)\n",
      "Your max_length is set to 142, but you input_length is only 100. You might consider decreasing max_length manually, e.g. summarizer('...', max_length=50)\n",
      "Your max_length is set to 142, but you input_length is only 119. You might consider decreasing max_length manually, e.g. summarizer('...', max_length=59)\n",
      "Your max_length is set to 142, but you input_length is only 85. You might consider decreasing max_length manually, e.g. summarizer('...', max_length=42)\n",
      "Your max_length is set to 142, but you input_length is only 35. You might consider decreasing max_length manually, e.g. summarizer('...', max_length=17)\n",
      "Your max_length is set to 142, but you input_length is only 108. You might consider decreasing max_length manually, e.g. summarizer('...', max_length=54)\n"
     ]
    },
    {
     "name": "stdout",
     "output_type": "stream",
     "text": [
      " This is the story of a series of young Sherlock Holmes and Harry Potter books . Watch the full movie, \"Sherlock Holmes\" and \"Harry Potter\" at the end of this week's live webcast at 9pm on Blu-Ray, 9pm ET . Review no longer makes sense, since I wrote it when I was 16 . I'm less hard on the Dursleys now .  Harry Potter lives in a closet under the staircase in the Dursley's house . The Dursleys are obsessed with their spoiled son, Dudley, and gleefully indulge his temper tantrums . Harry Potter is frequently beaten senseless by Dudley and his lackeys . The story starts to feel like a blend of Matilda and Jane Eyre with a male protagonist .  Hagrid is another element of the story that feels extremely classic, the simple, salt-of-the-earth peasant guy who simply won't take evil or stupidity from anyone . Harry miraculously survived Voldemort's attempt to kill him and Voldemort hasn't been seen since . The Weasleys get some of the best dialogue in the entire book, particularly Fred and George .  This week marks the 25th anniversary of the Potter series . Harry Potter stars in the latest episode of \"Harry Potter\" This week's episode is a look at Harry Potter's relationship with the Dursleys . The popularity of this series shows that it might be a good idea to bring more obscure books like Five Children and It back into the public eye .  Snape is interesting, indeed, and for someone who only spoke a few words, he's an interesting man . He's a fascinating character, and he's a good writer, and a good friend, too . I'm also curious to know a little of Neville's backstory; why is he always with Hermione?\n"
     ]
    }
   ],
   "source": [
    "print(oversummarize_para_sensitive(summarizer_pegasus, ramble, step=400))\n",
    "print()\n",
    "print(oversummarize_para_sensitive(summarizer_bart, ramble, step=450))"
   ]
  },
  {
   "cell_type": "markdown",
   "metadata": {},
   "source": [
    "A look back at some of the most memorable moments from this year's Rugby World Cup. This is my final review of Harry Potter and the Philosopher's Stone.\n",
    "\n",
    " This is the story of a series of young Sherlock Holmes and Harry Potter books . Watch the full movie, \"Sherlock Holmes\" and \"Harry Potter\" at the end of this week's live webcast at 9pm on Blu-Ray, 9pm ET . Review no longer makes sense, since I wrote it when I was 16 . I'm less hard on the Dursleys now .  Harry Potter lives in a closet under the staircase in the Dursley's house . The Dursleys are obsessed with their spoiled son, Dudley, and gleefully indulge his temper tantrums . Harry Potter is frequently beaten senseless by Dudley and his lackeys . The story starts to feel like a blend of Matilda and Jane Eyre with a male protagonist .  Hagrid is another element of the story that feels extremely classic, the simple, salt-of-the-earth peasant guy who simply won't take evil or stupidity from anyone . Harry miraculously survived Voldemort's attempt to kill him and Voldemort hasn't been seen since . The Weasleys get some of the best dialogue in the entire book, particularly Fred and George .  This week marks the 25th anniversary of the Potter series . Harry Potter stars in the latest episode of \"Harry Potter\" This week's episode is a look at Harry Potter's relationship with the Dursleys . The popularity of this series shows that it might be a good idea to bring more obscure books like Five Children and It back into the public eye .  Snape is interesting, indeed, and for someone who only spoke a few words, he's an interesting man . He's a fascinating character, and he's a good writer, and a good friend, too . I'm also curious to know a little of Neville's backstory; why is he always with Hermione?"
   ]
  },
  {
   "cell_type": "markdown",
   "metadata": {},
   "source": [
    "All approaches lead to all kinds of bizzare results, with the best results, in my opinion, being achieved with the `summarizer_sent_sensitive` function and the `bart` model, though that can arguably be a feature of this review and not hold in general."
   ]
  }
 ],
 "metadata": {
  "kernelspec": {
   "display_name": "Python 3 (ipykernel)",
   "language": "python",
   "name": "python3"
  },
  "language_info": {
   "codemirror_mode": {
    "name": "ipython",
    "version": 3
   },
   "file_extension": ".py",
   "mimetype": "text/x-python",
   "name": "python",
   "nbconvert_exporter": "python",
   "pygments_lexer": "ipython3",
   "version": "3.8.5"
  }
 },
 "nbformat": 4,
 "nbformat_minor": 5
}
